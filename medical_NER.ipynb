{
  "nbformat": 4,
  "nbformat_minor": 0,
  "metadata": {
    "colab": {
      "name": "med_report_ver2.0.ipynb",
      "provenance": [],
      "include_colab_link": true
    },
    "kernelspec": {
      "name": "python3",
      "display_name": "Python 3"
    }
  },
  "cells": [
    {
      "cell_type": "markdown",
      "metadata": {
        "id": "view-in-github",
        "colab_type": "text"
      },
      "source": [
        "<a href=\"https://colab.research.google.com/github/kuan0808/Med_Conversation_NER/blob/master/medical_NER.ipynb\" target=\"_parent\"><img src=\"https://colab.research.google.com/assets/colab-badge.svg\" alt=\"Open In Colab\"/></a>"
      ]
    },
    {
      "cell_type": "code",
      "metadata": {
        "id": "P5LTi8grYM6u",
        "colab_type": "code",
        "colab": {
          "base_uri": "https://localhost:8080/",
          "height": 35
        },
        "outputId": "e4de9088-fa21-426e-aea1-62fbb15b6c05"
      },
      "source": [
        "import os\n",
        "import numpy as np\n",
        "import pandas as pd\n",
        "\n",
        "import keras\n",
        "from keras import Input\n",
        "from keras.layers import Embedding, \\\n",
        "    GRU, Dense, TimeDistributed\n",
        "from keras.models import Model\n",
        "from keras.utils import plot_model\n",
        "import tensorflow as tf\n",
        "\n",
        "import datetime\n",
        "\n",
        "!pip install jieba\n",
        "import jieba\n",
        "\n",
        "from sklearn.model_selection \\\n",
        "    import train_test_split"
      ],
      "execution_count": null,
      "outputs": [
        {
          "output_type": "stream",
          "text": [
            "Requirement already satisfied: jieba in /usr/local/lib/python3.6/dist-packages (0.42.1)\n"
          ],
          "name": "stdout"
        }
      ]
    },
    {
      "cell_type": "code",
      "metadata": {
        "id": "PC_tlkCwkURV",
        "colab_type": "code",
        "colab": {}
      },
      "source": [
        "MAX_NUM_WORDS = 10000\n",
        "\n",
        "NUM_CLASSES = 19\n",
        "\n",
        "MAX_SEQUENCE_LENGTH = 5159\n",
        "\n",
        "VALIDATION_RATIO = 0.1\n",
        "\n",
        "NUM_EMBEDDING_DIM = 512\n",
        "\n",
        "NUM_GRU_UNITS = 128\n",
        "\n",
        "RANDOM_STATE = 42\n",
        "\n",
        "label_to_index = {'name' : 0, 'location' : 1, 'time' : 2, 'contact' : 3, 'ID' : 4, \\\n",
        "                  'profession' : 5, 'biomarker' : 6, 'family' : 7, 'clinical_event' : 8, \\\n",
        "                  'special_skills' : 9, 'unique_treatment' : 10, 'account' : 11, 'organization' : 12, \\\n",
        "                  'education': 13, 'money' : 14, 'belonging_mark' : 15, 'med_exam' : 16, 'others' : 17, 'None' : 18}\n",
        "\n",
        "index_to_label = {v: k for k, v in label_to_index.items()}\n",
        "\n",
        "tokenizer = keras \\\n",
        "    .preprocessing \\\n",
        "    .text \\\n",
        "    .Tokenizer(num_words = MAX_NUM_WORDS, lower = False, filters = '&*#@$')"
      ],
      "execution_count": null,
      "outputs": []
    },
    {
      "cell_type": "markdown",
      "metadata": {
        "id": "HBOI0Rw_ZiyV",
        "colab_type": "text"
      },
      "source": [
        "# Data Preprocess"
      ]
    },
    {
      "cell_type": "code",
      "metadata": {
        "id": "3BfLHI3ZZJ8y",
        "colab_type": "code",
        "colab": {}
      },
      "source": [
        "def preprocess_txt(path, is_trainset = False, valid_ratio = 0.1):\n",
        "    contents = []\n",
        "    labels = []\n",
        "    with open(path, 'r', encoding='utf8') as f:\n",
        "        raw_data=f.read().encode('utf-8').decode('utf-8-sig')\n",
        "    articles = raw_data.split('\\n\\n--------------------\\n\\n')\n",
        "    for article in articles:\n",
        "        content = article.split('\\n')[0]\n",
        "        contents.append(content)\n",
        "        if is_trainset:\n",
        "            for label in article.split('\\n')[2:]:\n",
        "                annot = label.split('\\t')\n",
        "                labels.append([int(annot[0]), int(annot[1]), int(annot[2]), annot[4]])\n",
        "    article_id = []\n",
        "    tokenized_words = []\n",
        "    start_pos = []\n",
        "    end_pos = []\n",
        "    for i in range(len(contents)):\n",
        "        result = jieba.tokenize(contents[i])\n",
        "        for tokenized_word, start, end in result:\n",
        "            article_id.append(i)\n",
        "            if tokenized_word != '......':\n",
        "                tokenized_words.append(tokenized_word)\n",
        "            else:\n",
        "                tokenized_words.append('nan')\n",
        "            start_pos.append(start)\n",
        "            end_pos.append(end)\n",
        "    dic = {'article_id' : article_id, 'tokenized_words' : tokenized_words, 'start_pos' : start_pos, 'end_pos': end_pos}\n",
        "    df = pd.DataFrame(dic)\n",
        "    if is_trainset:\n",
        "        df['label_type'] = 'None'\n",
        "        for label in labels:\n",
        "            df.loc[(df.article_id == label[0]) & (label[1] <= df.start_pos) & (label[2] > df.start_pos), 'label_type'] = label[3]\n",
        "    \n",
        "    tokenizer.fit_on_texts(df.tokenized_words.values)\n",
        "    df['trainset'] = df.tokenized_words.apply(lambda x: tokenizer.word_index[x])\n",
        "    if is_trainset:\n",
        "        df['label_type_num'] = df.label_type.apply(lambda x: label_to_index[x])\n",
        "    train = df.groupby('article_id').trainset.apply(list).reset_index(name = 'sequence')\n",
        "    if is_trainset:\n",
        "        train = pd.merge(train, df.groupby('article_id').label_type_num.apply(list).reset_index(name = 'label'), on = 'article_id')\n",
        "    start_end = list(zip(df.start_pos, df.end_pos))\n",
        "    df['start_end'] = start_end\n",
        "    train = pd.merge(train, df.groupby('article_id').start_end.apply(list).reset_index(name = 'start_end'), on = 'article_id')\n",
        "    \n",
        "    x_train = train.sequence\n",
        "    x_train = keras \\\n",
        "        .preprocessing \\\n",
        "        .sequence \\\n",
        "        .pad_sequences(x_train, \n",
        "                    maxlen=MAX_SEQUENCE_LENGTH)\n",
        "    x_pos = train.start_end\n",
        "    x_pos = keras \\\n",
        "        .preprocessing \\\n",
        "        .sequence \\\n",
        "        .pad_sequences(x_pos, \n",
        "                    maxlen=MAX_SEQUENCE_LENGTH)\n",
        "    x_train = np.array(x_train, dtype='float32')\n",
        "    x_pos = np.array(x_pos, dtype='float32')\n",
        "    if is_trainset:\n",
        "        y_train = train.label\n",
        "        y_train = keras \\\n",
        "            .preprocessing \\\n",
        "            .sequence \\\n",
        "            .pad_sequences(y_train, \n",
        "                   maxlen=MAX_SEQUENCE_LENGTH, value=18)\n",
        "        y_train = np.array(y_train, dtype='float32')\n",
        "        categor_method = lambda x: keras.utils.to_categorical(x)\n",
        "        y_train = np.array([categor_method(y) for y in y_train])\n",
        "        x_train, x_val, y_train, y_val = \\\n",
        "        train_test_split(\n",
        "        x_train, y_train,\n",
        "        test_size=VALIDATION_RATIO, \n",
        "        random_state=RANDOM_STATE)\n",
        "        print(\"Training Set\")\n",
        "        print(\"-\" * 10)\n",
        "        print(f\"x_train: {x_train.shape}\")\n",
        "        print(f\"y_train : {y_train.shape}\")\n",
        "\n",
        "        print(\"-\" * 10)\n",
        "        print(f\"x_val:   {x_val.shape}\")\n",
        "        print(f\"y_val :  {y_val.shape}\")\n",
        "        print(\"-\" * 10)\n",
        "        print(\"Test Set\")\n",
        "        return x_train, y_train, x_val, y_val\n",
        "    return x_train, x_pos\n",
        "    "
      ],
      "execution_count": null,
      "outputs": []
    },
    {
      "cell_type": "code",
      "metadata": {
        "id": "-Zn7Di0EiuHJ",
        "colab_type": "code",
        "colab": {}
      },
      "source": [
        "train_file_path='train_1_update.txt'"
      ],
      "execution_count": null,
      "outputs": []
    },
    {
      "cell_type": "code",
      "metadata": {
        "id": "lc7Mrwh_cbSz",
        "colab_type": "code",
        "colab": {
          "base_uri": "https://localhost:8080/",
          "height": 201
        },
        "outputId": "e7e4a893-2560-4595-91eb-364ba9d126cc"
      },
      "source": [
        "x_train, y_train, x_val, y_val = preprocess_txt(train_file_path, is_trainset=True)\n",
        "print(y_train.shape)\n",
        "# print(np.argmax(y_train, axis=2))\n",
        "# print(np.squeeze(np.argmax(y_train, axis=2).reshape(-1,1)))"
      ],
      "execution_count": null,
      "outputs": [
        {
          "output_type": "stream",
          "text": [
            "Training Set\n",
            "----------\n",
            "x_train: (108, 5159)\n",
            "y_train : (108, 5159, 19)\n",
            "----------\n",
            "x_val:   (12, 5159)\n",
            "y_val :  (12, 5159, 19)\n",
            "----------\n",
            "Test Set\n",
            "(108, 5159, 19)\n"
          ],
          "name": "stdout"
        }
      ]
    },
    {
      "cell_type": "code",
      "metadata": {
        "id": "iHEZzSGJppjy",
        "colab_type": "code",
        "colab": {}
      },
      "source": [
        "test_file_path = 'SampleData_deid.txt'"
      ],
      "execution_count": null,
      "outputs": []
    },
    {
      "cell_type": "code",
      "metadata": {
        "id": "XXdTT4g85e6Z",
        "colab_type": "code",
        "colab": {
          "base_uri": "https://localhost:8080/",
          "height": 917
        },
        "outputId": "8bb12ab9-2cdf-4c00-c7d8-56dbdaffcbd9"
      },
      "source": [
        "x_test, x_pos= preprocess_txt(test_file_path, valid_ratio=0)\n",
        "print(x_pos)"
      ],
      "execution_count": null,
      "outputs": [
        {
          "output_type": "stream",
          "text": [
            "[[[   0.    0.]\n",
            "  [   0.    0.]\n",
            "  [   0.    0.]\n",
            "  ...\n",
            "  [2879. 2880.]\n",
            "  [2880. 2881.]\n",
            "  [2881. 2882.]]\n",
            "\n",
            " [[   0.    0.]\n",
            "  [   0.    0.]\n",
            "  [   0.    0.]\n",
            "  ...\n",
            "  [2726. 2728.]\n",
            "  [2728. 2730.]\n",
            "  [2730. 2731.]]\n",
            "\n",
            " [[   0.    0.]\n",
            "  [   0.    0.]\n",
            "  [   0.    0.]\n",
            "  ...\n",
            "  [1823. 1825.]\n",
            "  [1825. 1826.]\n",
            "  [1826. 1827.]]\n",
            "\n",
            " ...\n",
            "\n",
            " [[   0.    0.]\n",
            "  [   0.    0.]\n",
            "  [   0.    0.]\n",
            "  ...\n",
            "  [1826. 1828.]\n",
            "  [1828. 1829.]\n",
            "  [1829. 1830.]]\n",
            "\n",
            " [[   0.    0.]\n",
            "  [   0.    0.]\n",
            "  [   0.    0.]\n",
            "  ...\n",
            "  [2072. 2073.]\n",
            "  [2073. 2074.]\n",
            "  [2074. 2075.]]\n",
            "\n",
            " [[   0.    0.]\n",
            "  [   0.    0.]\n",
            "  [   0.    0.]\n",
            "  ...\n",
            "  [2020. 2021.]\n",
            "  [2021. 2023.]\n",
            "  [2023. 2024.]]]\n"
          ],
          "name": "stdout"
        }
      ]
    },
    {
      "cell_type": "markdown",
      "metadata": {
        "id": "l1r9AgT063JB",
        "colab_type": "text"
      },
      "source": [
        "# Model"
      ]
    },
    {
      "cell_type": "code",
      "metadata": {
        "id": "MmT2CbXl6xUc",
        "colab_type": "code",
        "colab": {
          "base_uri": "https://localhost:8080/",
          "height": 415
        },
        "outputId": "cdccde82-26e2-472e-ac61-a4c71ead9a13"
      },
      "source": [
        "input = Input(\n",
        "    shape=(MAX_SEQUENCE_LENGTH, ), \n",
        "    dtype='float32')\n",
        "\n",
        "embedding_layer = Embedding(\n",
        "    MAX_NUM_WORDS, NUM_EMBEDDING_DIM, mask_zero=True, trainable=True)\n",
        "embedded = embedding_layer(input)\n",
        "\n",
        "gru = GRU(NUM_GRU_UNITS, return_sequences=True)\n",
        "output = gru(embedded)\n",
        "\n",
        "dense =  TimeDistributed(Dense(\n",
        "    units=NUM_CLASSES, \n",
        "    activation='softmax'))\n",
        "predictions = dense(output)\n",
        "\n",
        "model = Model(inputs=input, outputs=predictions)\n",
        "model.compile(\n",
        "    optimizer='rmsprop',\n",
        "    loss='categorical_crossentropy',\n",
        "    metrics=['accuracy'])\n",
        "\n",
        "model.summary()\n",
        "\n",
        "plot_model(\n",
        "    model, \n",
        "    to_file='model.png', \n",
        "    show_shapes=True, \n",
        "    show_layer_names=False, \n",
        "    rankdir='LR')"
      ],
      "execution_count": null,
      "outputs": [
        {
          "output_type": "stream",
          "text": [
            "Model: \"functional_3\"\n",
            "_________________________________________________________________\n",
            "Layer (type)                 Output Shape              Param #   \n",
            "=================================================================\n",
            "input_3 (InputLayer)         [(None, 5159)]            0         \n",
            "_________________________________________________________________\n",
            "embedding_2 (Embedding)      (None, 5159, 512)         5120000   \n",
            "_________________________________________________________________\n",
            "gru_2 (GRU)                  (None, 5159, 128)         246528    \n",
            "_________________________________________________________________\n",
            "time_distributed (TimeDistri (None, 5159, 19)          2451      \n",
            "=================================================================\n",
            "Total params: 5,368,979\n",
            "Trainable params: 5,368,979\n",
            "Non-trainable params: 0\n",
            "_________________________________________________________________\n"
          ],
          "name": "stdout"
        },
        {
          "output_type": "execute_result",
          "data": {
            "image/png": "[encoded data removed]",
            "text/plain": [
              "<IPython.core.display.Image object>"
            ]
          },
          "metadata": {
            "tags": []
          },
          "execution_count": 21
        }
      ]
    },
    {
      "cell_type": "markdown",
      "metadata": {
        "id": "wJrr303h7pgu",
        "colab_type": "text"
      },
      "source": [
        "## Model Fit\n"
      ]
    },
    {
      "cell_type": "code",
      "metadata": {
        "id": "e03saXWM7frd",
        "colab_type": "code",
        "colab": {
          "base_uri": "https://localhost:8080/",
          "height": 752
        },
        "outputId": "a2d12198-4224-41a5-bb87-7afb8f59fef9"
      },
      "source": [
        "BATCH_SIZE = 10\n",
        "\n",
        "NUM_EPOCHS = 20\n",
        "\n",
        "log_dir = \"logs/fit/\" + datetime.datetime.now().strftime(\"%Y%m%d-%H%M%S\")\n",
        "tensorboard_callback = tf.keras.callbacks.TensorBoard(log_dir=log_dir, histogram_freq=1)\n",
        "\n",
        "history = model.fit(\n",
        "    x=x_train, \n",
        "    y=y_train,\n",
        "    batch_size=BATCH_SIZE,\n",
        "    epochs=NUM_EPOCHS,\n",
        "    validation_data=(x_val, y_val),shuffle=True,callbacks=[tensorboard_callback])"
      ],
      "execution_count": null,
      "outputs": [
        {
          "output_type": "stream",
          "text": [
            "Epoch 1/20\n",
            "11/11 [==============================] - 120s 11s/step - loss: 0.0088 - accuracy: 0.9898 - val_loss: 0.0112 - val_accuracy: 0.9853\n",
            "Epoch 2/20\n",
            "11/11 [==============================] - 117s 11s/step - loss: 0.0088 - accuracy: 0.9901 - val_loss: 0.0109 - val_accuracy: 0.9863\n",
            "Epoch 3/20\n",
            "11/11 [==============================] - 118s 11s/step - loss: 0.0077 - accuracy: 0.9913 - val_loss: 0.0106 - val_accuracy: 0.9863\n",
            "Epoch 4/20\n",
            "11/11 [==============================] - 118s 11s/step - loss: 0.0074 - accuracy: 0.9917 - val_loss: 0.0110 - val_accuracy: 0.9867\n",
            "Epoch 5/20\n",
            "11/11 [==============================] - 116s 11s/step - loss: 0.0070 - accuracy: 0.9923 - val_loss: 0.0116 - val_accuracy: 0.9854\n",
            "Epoch 6/20\n",
            "11/11 [==============================] - 117s 11s/step - loss: 0.0064 - accuracy: 0.9926 - val_loss: 0.0109 - val_accuracy: 0.9864\n",
            "Epoch 7/20\n",
            "11/11 [==============================] - 116s 11s/step - loss: 0.0062 - accuracy: 0.9926 - val_loss: 0.0117 - val_accuracy: 0.9865\n",
            "Epoch 8/20\n",
            "11/11 [==============================] - 117s 11s/step - loss: 0.0059 - accuracy: 0.9930 - val_loss: 0.0114 - val_accuracy: 0.9854\n",
            "Epoch 9/20\n",
            "11/11 [==============================] - 118s 11s/step - loss: 0.0056 - accuracy: 0.9931 - val_loss: 0.0118 - val_accuracy: 0.9866\n",
            "Epoch 10/20\n",
            "11/11 [==============================] - 118s 11s/step - loss: 0.0051 - accuracy: 0.9936 - val_loss: 0.0115 - val_accuracy: 0.9864\n",
            "Epoch 11/20\n",
            "11/11 [==============================] - 118s 11s/step - loss: 0.0051 - accuracy: 0.9936 - val_loss: 0.0116 - val_accuracy: 0.9857\n",
            "Epoch 12/20\n",
            "11/11 [==============================] - 118s 11s/step - loss: 0.0049 - accuracy: 0.9938 - val_loss: 0.0116 - val_accuracy: 0.9866\n",
            "Epoch 13/20\n",
            "11/11 [==============================] - 117s 11s/step - loss: 0.0044 - accuracy: 0.9943 - val_loss: 0.0121 - val_accuracy: 0.9873\n",
            "Epoch 14/20\n",
            "11/11 [==============================] - 117s 11s/step - loss: 0.0044 - accuracy: 0.9943 - val_loss: 0.0120 - val_accuracy: 0.9860\n",
            "Epoch 15/20\n",
            "11/11 [==============================] - 117s 11s/step - loss: 0.0043 - accuracy: 0.9944 - val_loss: 0.0120 - val_accuracy: 0.9870\n",
            "Epoch 16/20\n",
            "11/11 [==============================] - 116s 11s/step - loss: 0.0039 - accuracy: 0.9948 - val_loss: 0.0121 - val_accuracy: 0.9871\n",
            "Epoch 17/20\n",
            "11/11 [==============================] - 117s 11s/step - loss: 0.0038 - accuracy: 0.9950 - val_loss: 0.0130 - val_accuracy: 0.9872\n",
            "Epoch 18/20\n",
            "11/11 [==============================] - 118s 11s/step - loss: 0.0041 - accuracy: 0.9947 - val_loss: 0.0131 - val_accuracy: 0.9871\n",
            "Epoch 19/20\n",
            "11/11 [==============================] - 116s 11s/step - loss: 0.0035 - accuracy: 0.9954 - val_loss: 0.0124 - val_accuracy: 0.9878\n",
            "Epoch 20/20\n",
            "11/11 [==============================] - 117s 11s/step - loss: 0.0035 - accuracy: 0.9953 - val_loss: 0.0126 - val_accuracy: 0.9880\n"
          ],
          "name": "stdout"
        }
      ]
    },
    {
      "cell_type": "code",
      "metadata": {
        "id": "fzfonITN72Xa",
        "colab_type": "code",
        "colab": {}
      },
      "source": [
        "predictions = model.predict(x_test)\n",
        "\n",
        "def predictions_to_csv(predics, pos_info, testset):\n",
        "    # dataframe['Category'] = np.squeeze(np.argmax(predics, axis=2).reshape(-1,1))\n",
        "    # dataframe['Category'] = dataframe['Category'].apply(lambda x: index_to_label[x])\n",
        "    # submission = dataframe.loc[dataframe.Category != 'None', ['article_id', 'start_pos', 'end_pos', 'tokenized_words', 'Category']]\n",
        "    # submission.columns = ['article_id', 'start_position', 'end_position', 'entity_text', 'entity_type']\n",
        "    article_id = []\n",
        "    start_pos = []\n",
        "    end_pos = []\n",
        "    category_list = []\n",
        "    text = []\n",
        "    for i in range(len(predics)):\n",
        "        for j in range(len(predics[i])):\n",
        "            article_id.append(i)\n",
        "            category = np.argmax(predics[i][j])\n",
        "            category = index_to_label[category]\n",
        "            category_list.append(category)\n",
        "            start_pos.append(pos_info[i][j][0])\n",
        "            end_pos.append(pos_info[i][j][1])\n",
        "            text.append(tokenizer.index_word.get(testset[i][j], ''))\n",
        "    dic = {'article_id' : article_id, 'start_position' : start_pos, 'end_position' : end_pos, 'entity_text' : text, 'entity_type' : category_list}\n",
        "    output = pd.DataFrame(dic)\n",
        "    output = output.loc[output.entity_type != 'None', :]\n",
        "    return output"
      ],
      "execution_count": null,
      "outputs": []
    },
    {
      "cell_type": "code",
      "metadata": {
        "id": "sGu3a7UYPoMI",
        "colab_type": "code",
        "colab": {
          "base_uri": "https://localhost:8080/",
          "height": 424
        },
        "outputId": "14b6d8d0-a5da-439f-9311-262dc27284ac"
      },
      "source": [
        "output = predictions_to_csv(predictions, x_pos, x_test)\n",
        "output.entity_type.value_counts()\n",
        "output.head(500)"
      ],
      "execution_count": null,
      "outputs": [
        {
          "output_type": "execute_result",
          "data": {
            "text/html": [
              "<div>\n",
              "<style scoped>\n",
              "    .dataframe tbody tr th:only-of-type {\n",
              "        vertical-align: middle;\n",
              "    }\n",
              "\n",
              "    .dataframe tbody tr th {\n",
              "        vertical-align: top;\n",
              "    }\n",
              "\n",
              "    .dataframe thead th {\n",
              "        text-align: right;\n",
              "    }\n",
              "</style>\n",
              "<table border=\"1\" class=\"dataframe\">\n",
              "  <thead>\n",
              "    <tr style=\"text-align: right;\">\n",
              "      <th></th>\n",
              "      <th>article_id</th>\n",
              "      <th>start_position</th>\n",
              "      <th>end_position</th>\n",
              "      <th>entity_text</th>\n",
              "      <th>entity_type</th>\n",
              "    </tr>\n",
              "  </thead>\n",
              "  <tbody>\n",
              "    <tr>\n",
              "      <th>3177</th>\n",
              "      <td>0</td>\n",
              "      <td>31.0</td>\n",
              "      <td>33.0</td>\n",
              "      <td>紅字</td>\n",
              "      <td>time</td>\n",
              "    </tr>\n",
              "    <tr>\n",
              "      <th>3231</th>\n",
              "      <td>0</td>\n",
              "      <td>111.0</td>\n",
              "      <td>113.0</td>\n",
              "      <td>它會</td>\n",
              "      <td>location</td>\n",
              "    </tr>\n",
              "    <tr>\n",
              "      <th>3665</th>\n",
              "      <td>0</td>\n",
              "      <td>716.0</td>\n",
              "      <td>718.0</td>\n",
              "      <td>腰椎</td>\n",
              "      <td>med_exam</td>\n",
              "    </tr>\n",
              "    <tr>\n",
              "      <th>3740</th>\n",
              "      <td>0</td>\n",
              "      <td>832.0</td>\n",
              "      <td>834.0</td>\n",
              "      <td>腰椎</td>\n",
              "      <td>med_exam</td>\n",
              "    </tr>\n",
              "    <tr>\n",
              "      <th>3761</th>\n",
              "      <td>0</td>\n",
              "      <td>861.0</td>\n",
              "      <td>863.0</td>\n",
              "      <td>腰椎</td>\n",
              "      <td>med_exam</td>\n",
              "    </tr>\n",
              "    <tr>\n",
              "      <th>...</th>\n",
              "      <td>...</td>\n",
              "      <td>...</td>\n",
              "      <td>...</td>\n",
              "      <td>...</td>\n",
              "      <td>...</td>\n",
              "    </tr>\n",
              "    <tr>\n",
              "      <th>133768</th>\n",
              "      <td>25</td>\n",
              "      <td>1490.0</td>\n",
              "      <td>1492.0</td>\n",
              "      <td>回診</td>\n",
              "      <td>time</td>\n",
              "    </tr>\n",
              "    <tr>\n",
              "      <th>133826</th>\n",
              "      <td>25</td>\n",
              "      <td>1571.0</td>\n",
              "      <td>1573.0</td>\n",
              "      <td>單阿</td>\n",
              "      <td>time</td>\n",
              "    </tr>\n",
              "    <tr>\n",
              "      <th>133871</th>\n",
              "      <td>25</td>\n",
              "      <td>1635.0</td>\n",
              "      <td>1637.0</td>\n",
              "      <td>回診</td>\n",
              "      <td>time</td>\n",
              "    </tr>\n",
              "    <tr>\n",
              "      <th>133878</th>\n",
              "      <td>25</td>\n",
              "      <td>1647.0</td>\n",
              "      <td>1649.0</td>\n",
              "      <td>回診</td>\n",
              "      <td>time</td>\n",
              "    </tr>\n",
              "    <tr>\n",
              "      <th>134012</th>\n",
              "      <td>25</td>\n",
              "      <td>1850.0</td>\n",
              "      <td>1852.0</td>\n",
              "      <td>還好</td>\n",
              "      <td>time</td>\n",
              "    </tr>\n",
              "  </tbody>\n",
              "</table>\n",
              "<p>367 rows × 5 columns</p>\n",
              "</div>"
            ],
            "text/plain": [
              "        article_id  start_position  end_position entity_text entity_type\n",
              "3177             0            31.0          33.0          紅字        time\n",
              "3231             0           111.0         113.0          它會    location\n",
              "3665             0           716.0         718.0          腰椎    med_exam\n",
              "3740             0           832.0         834.0          腰椎    med_exam\n",
              "3761             0           861.0         863.0          腰椎    med_exam\n",
              "...            ...             ...           ...         ...         ...\n",
              "133768          25          1490.0        1492.0          回診        time\n",
              "133826          25          1571.0        1573.0          單阿        time\n",
              "133871          25          1635.0        1637.0          回診        time\n",
              "133878          25          1647.0        1649.0          回診        time\n",
              "134012          25          1850.0        1852.0          還好        time\n",
              "\n",
              "[367 rows x 5 columns]"
            ]
          },
          "metadata": {
            "tags": []
          },
          "execution_count": 35
        }
      ]
    },
    {
      "cell_type": "code",
      "metadata": {
        "id": "Biskj_inc-EW",
        "colab_type": "code",
        "colab": {}
      },
      "source": [
        ""
      ],
      "execution_count": null,
      "outputs": []
    }
  ]
}